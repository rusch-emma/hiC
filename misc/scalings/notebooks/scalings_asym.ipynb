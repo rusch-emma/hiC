{
 "cells": [
  {
   "source": [
    "# P(s) for rectangular off-diagonal regions"
   ],
   "cell_type": "markdown",
   "metadata": {}
  },
  {
   "cell_type": "code",
   "execution_count": null,
   "metadata": {},
   "outputs": [],
   "source": [
    "import pprint\n",
    "import os\n",
    "import sys\n",
    "import collections\n",
    "\n",
    "import bioframe\n",
    "import click\n",
    "import cooler\n",
    "import cooltools\n",
    "import cooltools.expected\n",
    "import matplotlib.pyplot as plt\n",
    "import matplotlib.gridspec\n",
    "from matplotlib.lines import Line2D\n",
    "import numpy as np\n",
    "from numpy.lib.function_base import average\n",
    "from pairlib.scalings import norm_scaling\n",
    "import pandas as pd\n",
    "import pairlib\n",
    "import pairlib.scalings\n",
    "import pairtools\n",
    "from diskcache import Cache\n",
    "from itertools import combinations\n",
    "import itertools\n",
    "\n",
    "from pandas.io.pytables import IndexCol\n",
    "\n",
    "from diskcache import Cache\n",
    "from itertools import combinations\n",
    "\n",
    "from pandas.io.pytables import IndexCol\n",
    "\n",
    "np.seterr(divide='ignore', invalid='ignore')"
   ]
  },
  {
   "cell_type": "code",
   "execution_count": null,
   "metadata": {},
   "outputs": [],
   "source": [
    "cooler_paths = {\n",
    "    'wt': '',\n",
    "    'top2-td': ''\n",
    "    }\n",
    "resolution = 2000\n",
    "out_path = ''\n",
    "assembly = 'sacCer3'\n",
    "region_size = 40000\n",
    "exclude_chroms = []\n",
    "centromeres_path = ''\n",
    "title = 'cdc20-td cdc20: 40kbp region around CENs'"
   ]
  },
  {
   "cell_type": "code",
   "execution_count": null,
   "metadata": {},
   "outputs": [],
   "source": [
    "coolers = {label: cooler.Cooler('::/resolutions/'.join((path, str(resolution)))) for label, path in cooler_paths.items()}"
   ]
  },
  {
   "cell_type": "code",
   "execution_count": null,
   "metadata": {},
   "outputs": [],
   "source": [
    "chromsizes = bioframe.fetch_chromsizes(assembly, filter_chroms=False, as_bed=True)\n",
    "chromsizes = chromsizes[~chromsizes.chrom.isin(exclude_chroms)]\n",
    "#chromsizes.set_index('chrom', inplace=True)\n",
    "cens = pd.read_csv(centromeres_path, delim_whitespace=True, header=None, names=['chrom', 'start', 'end'])\n",
    "\n",
    "cens = bioframe.ops.expand(cens, region_size // 2)"
   ]
  },
  {
   "cell_type": "code",
   "execution_count": null,
   "metadata": {},
   "outputs": [],
   "source": [
    "from cooltools.lib.numutils import persistent_log_bins\n",
    "from scipy.stats import binned_statistic\n",
    "\n",
    "fig, ax = plt.subplots(figsize=(10, 10))\n",
    "\n",
    "for label, clr in coolers.items():\n",
    "    scalings = []\n",
    "    for idx, cen in cens.iterrows():\n",
    "        end = chromsizes[chromsizes['chrom'] == cen.chrom]['end'].values[0]\n",
    "        region1 = (cen.chrom, 0, end)\n",
    "        region2 = (cen.chrom, cen.start if cen.start >= 0 else 0, cen.end if cen.end <= end else end)\n",
    "        mat = clr.matrix(balance=False).fetch(region1, region2)\n",
    "        scalings.append(mat.mean(axis=1))\n",
    "\n",
    "    # average chromosome scalings\n",
    "    scalings = [np.nanmean(i) for i in list(itertools.zip_longest(*scalings, fillvalue=np.nan))]\n",
    "    # bincount\n",
    "    \n",
    "    # plot\n",
    "    img = ax.loglog(\n",
    "        scalings,\n",
    "        label=label,\n",
    "        lw=1,\n",
    "        alpha=0.5\n",
    "    )\n",
    "\n",
    "ax.grid(lw=0.5, color='gray')\n",
    "ax.set_xlim(1e1)\n",
    "ax.set_xlabel('distance from CEN')\n",
    "ax.set_ylabel('contact frequency')\n",
    "ax.set_aspect(1.0)\n",
    "ax.set_title(title)\n",
    "plt.legend()\n",
    "plt.savefig(out_path, bbox_inches='tight', dpi=300)"
   ]
  },
  {
   "cell_type": "code",
   "execution_count": null,
   "metadata": {},
   "outputs": [],
   "source": []
  }
 ],
 "metadata": {
  "kernelspec": {
   "display_name": "Python [conda env:.conda-main]",
   "language": "python",
   "name": "conda-env-.conda-main-py"
  },
  "language_info": {
   "codemirror_mode": {
    "name": "ipython",
    "version": 3
   },
   "file_extension": ".py",
   "mimetype": "text/x-python",
   "name": "python",
   "nbconvert_exporter": "python",
   "pygments_lexer": "ipython3",
   "version": "3.7.7"
  }
 },
 "nbformat": 4,
 "nbformat_minor": 4
}